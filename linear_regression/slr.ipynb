{
 "cells": [
  {
   "cell_type": "markdown",
   "id": "14440922",
   "metadata": {},
   "source": [
    "Importing libraries"
   ]
  },
  {
   "cell_type": "code",
   "execution_count": 2,
   "id": "61733fcb",
   "metadata": {
    "lines_to_next_cell": 1
   },
   "outputs": [],
   "source": [
    "import numpy as np"
   ]
  },
  {
   "cell_type": "markdown",
   "id": "6b136b1c",
   "metadata": {},
   "source": [
    "Define class"
   ]
  },
  {
   "cell_type": "code",
   "execution_count": 3,
   "id": "12f4b5f7-4a2f-4156-b418-e4f3985a3b03",
   "metadata": {},
   "outputs": [],
   "source": [
    "class LinearRegression:\n",
    "\n",
    "    def __init__(self):\n",
    "        self.parameters = {}\n"
   ]
  },
  {
   "cell_type": "markdown",
   "id": "69b9158f",
   "metadata": {},
   "source": [
    "Prediction after training"
   ]
  },
  {
   "cell_type": "code",
   "execution_count": 4,
   "id": "564c5497-9473-41f0-a935-6f6ea03e1e41",
   "metadata": {},
   "outputs": [],
   "source": [
    "def predicting(self,train_input):\n",
    "    m = self.parameters['m']\n",
    "    c = self.parameters['c']\n",
    "    return np.multiply(m,train_input) + c"
   ]
  },
  {
   "cell_type": "markdown",
   "id": "570b4e24",
   "metadata": {},
   "source": [
    "Calculating MSE"
   ]
  },
  {
   "cell_type": "code",
   "execution_count": 5,
   "id": "da4706ad-2efd-4a3a-b816-2f021048ac0c",
   "metadata": {},
   "outputs": [],
   "source": [
    "def error_calc(self,prediction,train_output):\n",
    "    return np.mean((prediction - train_output)**2)"
   ]
  },
  {
   "cell_type": "markdown",
   "id": "f8d090e8",
   "metadata": {},
   "source": [
    "Calculating the gradient and storing"
   ]
  },
  {
   "cell_type": "code",
   "execution_count": 6,
   "id": "30b3a3e3-12d5-442b-9db7-81ca63021025",
   "metadata": {},
   "outputs": [],
   "source": [
    "def gradient(self,prediction,train_output,train_input):\n",
    "    derivatives = {}\n",
    "    diff = prediction - train_output\n",
    "    derivatives['dm'] = 2 * np.mean(np.multiply(diff,train_input))\n",
    "    derivatives['dc'] = 2 * np.mean(diff)\n",
    "    return derivatives"
   ]
  },
  {
   "cell_type": "markdown",
   "id": "bdc35e4a",
   "metadata": {},
   "source": [
    "Updating parameters based on gradient"
   ]
  },
  {
   "cell_type": "code",
   "execution_count": 7,
   "id": "c426fb70-eceb-472e-82dd-9c74f36b4a8b",
   "metadata": {},
   "outputs": [],
   "source": [
    "def update(self,learning_rate,derivatives):\n",
    "    self.parameters['m'] = self.parameters['m'] - learning_rate * derivatives['dm']\n",
    "    self.parameters['c'] = self.parameters['c'] - learning_rate * derivatives['dc']"
   ]
  },
  {
   "cell_type": "markdown",
   "id": "7080c2a0",
   "metadata": {},
   "source": [
    "Function to call to train the model"
   ]
  },
  {
   "cell_type": "code",
   "execution_count": 8,
   "id": "bce67680",
   "metadata": {},
   "outputs": [],
   "source": [
    "def train(self,train_input,train_output,learning_rate,iters):\n",
    "    self.parameters['m'] = np.random.uniform(0,1) * -1\n",
    "    self.parameters['c'] = np.random.uniform(0,1) * -1\n",
    "\n",
    "    for i in range(iters):\n",
    "        prediction = self.predicting(train_input)\n",
    "        cost = self.error_calc(prediction,train_output)\n",
    "        derivatives = self.gradient(prediction,train_output,train_input)\n",
    "        self.update(learning_rate,derivatives)"
   ]
  }
 ],
 "metadata": {
  "jupytext": {
   "cell_metadata_filter": "-all",
   "main_language": "python",
   "notebook_metadata_filter": "-all"
  },
  "kernelspec": {
   "display_name": "base",
   "language": "python",
   "name": "python3"
  },
  "language_info": {
   "codemirror_mode": {
    "name": "ipython",
    "version": 3
   },
   "file_extension": ".py",
   "mimetype": "text/x-python",
   "name": "python",
   "nbconvert_exporter": "python",
   "pygments_lexer": "ipython3",
   "version": "3.12.2"
  }
 },
 "nbformat": 4,
 "nbformat_minor": 5
}
