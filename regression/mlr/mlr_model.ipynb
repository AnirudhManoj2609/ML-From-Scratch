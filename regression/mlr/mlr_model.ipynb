{
 "cells": [
  {
   "cell_type": "markdown",
   "metadata": {},
   "source": [
    "Importing libraries"
   ]
  },
  {
   "cell_type": "code",
   "execution_count": 8,
   "metadata": {},
   "outputs": [],
   "source": [
    "import numpy as np"
   ]
  },
  {
   "cell_type": "markdown",
   "metadata": {},
   "source": [
    "Define class\n"
   ]
  },
  {
   "cell_type": "code",
   "execution_count": 9,
   "metadata": {},
   "outputs": [],
   "source": [
    "class MultiLinearRegression:\n",
    "    def __init__(self):\n",
    "        self.parameters = {}"
   ]
  },
  {
   "cell_type": "markdown",
   "metadata": {},
   "source": [
    "Prediction"
   ]
  },
  {
   "cell_type": "code",
   "execution_count": 10,
   "metadata": {},
   "outputs": [],
   "source": [
    "def predicting(self,train_input):\n",
    "    m = self.parameters['m']\n",
    "    c = self.parameters['c']\n",
    "    return np.dot(train_input,m)\n",
    "#using dot allows for vector multiplication which is needed here in case of MLR\n",
    "MultiLinearRegression.predicting = predicting"
   ]
  },
  {
   "cell_type": "markdown",
   "metadata": {},
   "source": [
    "Training the model"
   ]
  },
  {
   "cell_type": "code",
   "execution_count": 11,
   "metadata": {},
   "outputs": [],
   "source": [
    "def error_calc(self,prediction,train_output):\n",
    "    return np.mean((prediction-train_output)**2)\n",
    "MultiLinearRegression.error_calc = error_calc"
   ]
  },
  {
   "cell_type": "markdown",
   "metadata": {},
   "source": [
    "Calculating the Gradient\n"
   ]
  },
  {
   "cell_type": "code",
   "execution_count": 12,
   "metadata": {},
   "outputs": [],
   "source": [
    "def gradient(self,prediction,train_input,train_output):\n",
    "    derivatives = {}\n",
    "    diff = prediction - train_output\n",
    "    derivatives['dm'] = 2 * np.dot(train_input.T,diff)/len(train_input)\n",
    "    derivatives['dc'] = 2 * np.mean(diff)\n",
    "    return derivatives \n",
    "MultiLinearRegression.gradient = gradient"
   ]
  },
  {
   "cell_type": "markdown",
   "metadata": {},
   "source": [
    "Update parameters based on gradient"
   ]
  },
  {
   "cell_type": "code",
   "execution_count": 13,
   "metadata": {},
   "outputs": [],
   "source": [
    "def update(self,learning_rate,derivatives):\n",
    "    self.parameters['m'] = self.parameters['m'] - learning_rate * derivatives['dm']\n",
    "    self.parameters['c'] = self.parameters['c'] - learning_rate * derivatives['dc']\n",
    "MultiLinearRegression.update = update"
   ]
  },
  {
   "cell_type": "code",
   "execution_count": 14,
   "metadata": {},
   "outputs": [],
   "source": [
    "def train(self,train_input,train_output,learning_rate,iters):\n",
    "    n_features = train_input.shape[1]\n",
    "    self.parameters['m'] = np.random.randn(n_features)\n",
    "    self.parameters['c'] = np.random.randn()\n",
    "\n",
    "    for i in range(iters):\n",
    "        prediction = self.predicting(train_input)\n",
    "        cost = self.error_calc(prediction,train_output)\n",
    "        derivatives = self.gradient(prediction,train_input,train_output)\n",
    "        self.update(learning_rate,derivatives)"
   ]
  }
 ],
 "metadata": {
  "kernelspec": {
   "display_name": "base",
   "language": "python",
   "name": "python3"
  },
  "language_info": {
   "codemirror_mode": {
    "name": "ipython",
    "version": 3
   },
   "file_extension": ".py",
   "mimetype": "text/x-python",
   "name": "python",
   "nbconvert_exporter": "python",
   "pygments_lexer": "ipython3",
   "version": "3.12.2"
  }
 },
 "nbformat": 4,
 "nbformat_minor": 2
}
