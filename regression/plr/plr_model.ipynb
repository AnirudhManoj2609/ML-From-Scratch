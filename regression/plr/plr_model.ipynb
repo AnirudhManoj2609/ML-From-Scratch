{
 "cells": [
  {
   "cell_type": "markdown",
   "metadata": {},
   "source": [
    "Importing libraries\n"
   ]
  },
  {
   "cell_type": "code",
   "execution_count": null,
   "metadata": {},
   "outputs": [],
   "source": [
    "import numpy as np\n",
    "from regression.mlr.mlr_model import MultiLinearRegression"
   ]
  },
  {
   "cell_type": "markdown",
   "metadata": {},
   "source": [
    "Define class"
   ]
  },
  {
   "cell_type": "code",
   "execution_count": null,
   "metadata": {},
   "outputs": [],
   "source": [
    "class PolynomialRegression:\n",
    "    def __init__(self,degree):\n",
    "        self.degree = degree\n",
    "        self.mlr = MultiLinearRegression()"
   ]
  },
  {
   "cell_type": "markdown",
   "metadata": {},
   "source": [
    "Transforming the input"
   ]
  },
  {
   "cell_type": "code",
   "execution_count": null,
   "metadata": {},
   "outputs": [],
   "source": [
    "def transform_input(self,X):\n",
    "    #X => 2D array with shape(n_samples,1)\n",
    "    n_samples = X.shape[0]\n",
    "    x_poly = np.ones((n_samples,self.degree))#x^0\n",
    "    for i in range(1,self.degree + 1):\n",
    "        x_poly[:,i - 1] = X[:,0] ** i\n",
    "    return x_poly \n",
    "PolynomialRegression.transform_input = transform_input"
   ]
  },
  {
   "cell_type": "markdown",
   "metadata": {},
   "source": [
    "Training the model"
   ]
  },
  {
   "cell_type": "code",
   "execution_count": null,
   "metadata": {},
   "outputs": [],
   "source": [
    "def train(self,train_input,train_output,learning_rate,iters):\n",
    "    x_poly = self.transform_input(train_input)\n",
    "    self.mlr.train(x_poly,train_output,learning_rate,iters)\n",
    "PolynomialRegression.train = train"
   ]
  },
  {
   "cell_type": "markdown",
   "metadata": {},
   "source": [
    "Predicting\n"
   ]
  },
  {
   "cell_type": "code",
   "execution_count": null,
   "metadata": {},
   "outputs": [],
   "source": [
    "def predicting(self,train_input):\n",
    "    x_poly = self.transform_input(train_input)\n",
    "    return self.mlr.predicting(x_poly)\n",
    "PolynomialRegression.predicting = predicting"
   ]
  }
 ],
 "metadata": {
  "kernelspec": {
   "display_name": "base",
   "language": "python",
   "name": "python3"
  },
  "language_info": {
   "name": "python",
   "version": "3.12.2"
  }
 },
 "nbformat": 4,
 "nbformat_minor": 2
}
