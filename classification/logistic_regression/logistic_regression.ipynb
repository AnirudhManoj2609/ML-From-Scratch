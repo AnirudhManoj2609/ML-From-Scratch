{
 "cells": [
  {
   "cell_type": "markdown",
   "metadata": {},
   "source": [
    "Import libraries"
   ]
  },
  {
   "cell_type": "code",
   "execution_count": 1,
   "metadata": {},
   "outputs": [],
   "source": [
    "import numpy as np"
   ]
  },
  {
   "cell_type": "markdown",
   "metadata": {},
   "source": [
    "Define Class"
   ]
  },
  {
   "cell_type": "code",
   "execution_count": null,
   "metadata": {},
   "outputs": [],
   "source": [
    "class LogisticRegression:\n",
    "    def __init__(self):\n",
    "        self.parameters = {}"
   ]
  },
  {
   "cell_type": "markdown",
   "metadata": {},
   "source": [
    "Sigmoid Function"
   ]
  },
  {
   "cell_type": "code",
   "execution_count": null,
   "metadata": {},
   "outputs": [],
   "source": [
    "def sigmoid(z):\n",
    "    return 1/(1 + np.exp(-z))"
   ]
  },
  {
   "cell_type": "markdown",
   "metadata": {},
   "source": [
    "Predicting"
   ]
  },
  {
   "cell_type": "code",
   "execution_count": null,
   "metadata": {},
   "outputs": [],
   "source": [
    "def predicting(self,train_input):\n",
    "    m = self.parameters['m']\n",
    "    c = self.parameters['c']\n",
    "    z = np.dot(train_input,m) + c \n",
    "    return sigmoid(z)\n",
    "LogisticRegression.predicting = predicting"
   ]
  },
  {
   "cell_type": "markdown",
   "metadata": {},
   "source": [
    "Log Loss(Error calc)"
   ]
  },
  {
   "cell_type": "code",
   "execution_count": null,
   "metadata": {},
   "outputs": [],
   "source": [
    "def log_loss(self,prediction,train_output):\n",
    "    epsilon = 1e-15\n",
    "    p = np.clip(prediction,epsilon,1 - epsilon)\n",
    "    loss = -np.mean(train_output * np.log(p) + (1 - train_output) * np.log(1 - p))\n",
    "LogisticRegression.log_loss = log_loss"
   ]
  },
  {
   "cell_type": "markdown",
   "metadata": {},
   "source": [
    "Calculate the gradient"
   ]
  },
  {
   "cell_type": "code",
   "execution_count": null,
   "metadata": {},
   "outputs": [],
   "source": [
    "def gradient(self,X,y_pred,y_true):\n",
    "    derivatives = {}\n",
    "    diff = y_pred - y_true\n",
    "    derivatives['dm'] = np.dot(X.T,diff)/len(y_true)\n",
    "    derivatives['dc'] = np.sum(diff)/len(y_true)\n",
    "    return derivatives\n",
    "LogisticRegression.gradient = gradient"
   ]
  },
  {
   "cell_type": "markdown",
   "metadata": {},
   "source": [
    "Update the model"
   ]
  },
  {
   "cell_type": "code",
   "execution_count": null,
   "metadata": {},
   "outputs": [],
   "source": [
    "def update(self,learning_rate,derivatives):\n",
    "    self.parameters['m'] -= learning_rate * derivatives['dm']\n",
    "    self.parameters['c'] -= learning_rate * derivatives['dc']\n",
    "LogisticRegression.update = update"
   ]
  },
  {
   "cell_type": "markdown",
   "metadata": {},
   "source": [
    "Train the model"
   ]
  },
  {
   "cell_type": "code",
   "execution_count": null,
   "metadata": {},
   "outputs": [],
   "source": [
    "def train(self,train_input,train_output,learning_rate,iters):\n",
    "    n_features = train_input.shape[1]\n",
    "    self.parameters['m'] = np.random.randn(n_features)\n",
    "    self.parameters['c'] = np.random.randn()\n",
    "\n",
    "    for i in range(iters):\n",
    "        prediction = self.predicting(train_input)\n",
    "        loss = self.log_loss(prediction,train_output)\n",
    "        derivatives = self.gradient(train_input,prediction,train_output)\n",
    "        self.update(learning_rate,derivatives)\n",
    "LogisticRegression.train = train"
   ]
  }
 ],
 "metadata": {
  "kernelspec": {
   "display_name": "base",
   "language": "python",
   "name": "python3"
  },
  "language_info": {
   "codemirror_mode": {
    "name": "ipython",
    "version": 3
   },
   "file_extension": ".py",
   "mimetype": "text/x-python",
   "name": "python",
   "nbconvert_exporter": "python",
   "pygments_lexer": "ipython3",
   "version": "3.12.2"
  }
 },
 "nbformat": 4,
 "nbformat_minor": 2
}
